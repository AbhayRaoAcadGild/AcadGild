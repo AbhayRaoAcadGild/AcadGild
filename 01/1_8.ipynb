{
 "cells": [
  {
   "cell_type": "markdown",
   "metadata": {},
   "source": [
    "# Assignment 1.8"
   ]
  },
  {
   "cell_type": "markdown",
   "metadata": {},
   "source": [
    "Write a Python Program to print the given string in the format specified in the sample\n",
    "output.\n",
    "WE, THE PEOPLE OF INDIA, having solemnly resolved to constitute India into a\n",
    "SOVEREIGN, SOCIALIST, SECULAR, DEMOCRATIC REPUBLIC and to secure to all\n",
    "its citizens<br>\n",
    "Sample Output:<br>\n",
    "WE, THE PEOPLE OF INDIA,<br>\n",
    "&nbsp;&nbsp;&nbsp;&nbsp;&nbsp; having solemnly resolved to constitute India into a SOVEREIGN, !<br>\n",
    "&nbsp;&nbsp;&nbsp;&nbsp;&nbsp;&nbsp;&nbsp;SOCIALIST, SECULAR, DEMOCRATIC REPUBLIC<br>\n",
    "&nbsp;&nbsp;&nbsp;&nbsp;&nbsp;&nbsp;&nbsp;&nbsp;and to secure to all its citizens"
   ]
  },
  {
   "cell_type": "code",
   "execution_count": 12,
   "metadata": {},
   "outputs": [
    {
     "name": "stdout",
     "output_type": "stream",
     "text": [
      "WE, THE PEOPLE OF INDIA,\n",
      "      having solemnly resolved to constitute India into a SOVEREIGN, !\n",
      "             SOCIALIST, SECULAR, DEMOCRATIC REPUBLIC\n",
      "              and to secure to all its citizens\n"
     ]
    }
   ],
   "source": [
    "str1 = \"WE, THE PEOPLE OF INDIA,{}\"\n",
    "str2 = \"\\n      having solemnly resolved to constitute India into a SOVEREIGN, !{}\"\n",
    "str3 = \"\\n             SOCIALIST, SECULAR, DEMOCRATIC REPUBLIC{}\"\n",
    "str4 = \"\\n              and to secure to all its citizens\"\n",
    "print(str1.format(str2.format(str3.format(str4))))"
   ]
  }
 ],
 "metadata": {
  "kernelspec": {
   "display_name": "Python 3",
   "language": "python",
   "name": "python3"
  },
  "language_info": {
   "codemirror_mode": {
    "name": "ipython",
    "version": 3
   },
   "file_extension": ".py",
   "mimetype": "text/x-python",
   "name": "python",
   "nbconvert_exporter": "python",
   "pygments_lexer": "ipython3",
   "version": "3.5.4"
  }
 },
 "nbformat": 4,
 "nbformat_minor": 2
}
